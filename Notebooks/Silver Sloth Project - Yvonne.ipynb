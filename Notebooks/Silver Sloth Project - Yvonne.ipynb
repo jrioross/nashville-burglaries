{
 "cells": [
  {
   "cell_type": "code",
   "execution_count": 1,
   "id": "4de116a1",
   "metadata": {},
   "outputs": [],
   "source": [
    "import requests\n",
    "from shapely.geometry import Point\n",
    "import pandas as pd\n",
    "import geopandas as gpd\n",
    "import matplotlib.pyplot as plt\n",
    "import folium\n",
    "from folium.plugins import MarkerCluster\n",
    "from folium.plugins import FastMarkerCluster\n",
    "from IPython.display import Image\n",
    "import json\n",
    "from io import StringIO"
   ]
  },
  {
   "cell_type": "code",
   "execution_count": 2,
   "id": "920d3c2e",
   "metadata": {},
   "outputs": [],
   "source": [
    "endpoint = 'https://data.nashville.gov/resource/2u6v-ujjs.geojson'"
   ]
  },
  {
   "cell_type": "code",
   "execution_count": 3,
   "id": "ccc96fb6",
   "metadata": {},
   "outputs": [],
   "source": [
    "params = {\"$where\": \"incident_reported between '2021-01-01T00:00:00' and '2021-06-30T23:59:59'\", \n",
    "          'offense_description': \"BURGLARY- AGGRAVATED\",\n",
    "          '$limit': 1000000}"
   ]
  },
  {
   "cell_type": "code",
   "execution_count": 4,
   "id": "35df79c5",
   "metadata": {},
   "outputs": [],
   "source": [
    "burglaries= requests.get(endpoint, params)"
   ]
  },
  {
   "cell_type": "code",
   "execution_count": 5,
   "id": "fd506bd8",
   "metadata": {},
   "outputs": [
    {
     "data": {
      "text/plain": [
       "<Response [200]>"
      ]
     },
     "execution_count": 5,
     "metadata": {},
     "output_type": "execute_result"
    }
   ],
   "source": [
    "burglaries"
   ]
  },
  {
   "cell_type": "code",
   "execution_count": 10,
   "id": "d8d89b26",
   "metadata": {},
   "outputs": [],
   "source": [
    "burglaries= gpd.read_file(StringIO(burglaries.text))"
   ]
  },
  {
   "cell_type": "code",
   "execution_count": 12,
   "id": "b0319648",
   "metadata": {},
   "outputs": [],
   "source": [
    "burglaries_1= burglaries.drop_duplicates(subset='incident_number', keep='first', inplace=False, ignore_index=False)"
   ]
  },
  {
   "cell_type": "code",
   "execution_count": 14,
   "id": "d0c28381",
   "metadata": {},
   "outputs": [
    {
     "data": {
      "text/plain": [
       "828"
      ]
     },
     "execution_count": 14,
     "metadata": {},
     "output_type": "execute_result"
    }
   ],
   "source": [
    "len(burglaries_1)"
   ]
  },
  {
   "cell_type": "code",
   "execution_count": null,
   "id": "58b3135d",
   "metadata": {},
   "outputs": [],
   "source": [
    "##Census- Need to find my file\n",
    "with open('../data/Census.json') as fi:\n",
    "    credentials = json.load(fi)\n",
    "    \n",
    "api_key = credentials['api_key']"
   ]
  },
  {
   "cell_type": "code",
   "execution_count": null,
   "id": "d5342967",
   "metadata": {},
   "outputs": [],
   "source": [
    "endpoint = https://www.census.gov/data/developers/data-sets/acs-5year.html"
   ]
  },
  {
   "cell_type": "code",
   "execution_count": null,
   "id": "76d25a09",
   "metadata": {},
   "outputs": [],
   "source": [
    "params = {\"Key\": \"Type\", \"End if not specified\", 'api_key': api_key}"
   ]
  },
  {
   "cell_type": "code",
   "execution_count": null,
   "id": "2a7c2005",
   "metadata": {},
   "outputs": [],
   "source": [
    "## Get request example- respone = requests.get(endpoint, params = params)"
   ]
  },
  {
   "cell_type": "code",
   "execution_count": null,
   "id": "786b152f",
   "metadata": {},
   "outputs": [],
   "source": [
    "## Response should be 200 you do not want anything that starts with a  400"
   ]
  },
  {
   "cell_type": "code",
   "execution_count": null,
   "id": "15548d2c",
   "metadata": {},
   "outputs": [],
   "source": [
    "## response tab gives you your options. response.json() gives you dictionary"
   ]
  },
  {
   "cell_type": "code",
   "execution_count": null,
   "id": "846200f5",
   "metadata": {},
   "outputs": [],
   "source": []
  },
  {
   "cell_type": "code",
   "execution_count": null,
   "id": "08c52a6a",
   "metadata": {},
   "outputs": [],
   "source": []
  }
 ],
 "metadata": {
  "kernelspec": {
   "display_name": "Python 3 (ipykernel)",
   "language": "python",
   "name": "python3"
  },
  "language_info": {
   "codemirror_mode": {
    "name": "ipython",
    "version": 3
   },
   "file_extension": ".py",
   "mimetype": "text/x-python",
   "name": "python",
   "nbconvert_exporter": "python",
   "pygments_lexer": "ipython3",
   "version": "3.8.5"
  }
 },
 "nbformat": 4,
 "nbformat_minor": 5
}
