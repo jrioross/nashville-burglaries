{
 "cells": [
  {
   "cell_type": "code",
   "execution_count": 1,
   "id": "4de116a1",
   "metadata": {},
   "outputs": [],
   "source": [
    "import requests\n",
    "from shapely.geometry import Point\n",
    "import pandas as pd\n",
    "import geopandas as gpd\n",
    "import matplotlib.pyplot as plt\n",
    "import folium\n",
    "from folium.plugins import MarkerCluster\n",
    "from folium.plugins import FastMarkerCluster\n",
    "from IPython.display import Image\n",
    "import json"
   ]
  },
  {
   "cell_type": "code",
   "execution_count": 2,
   "id": "407ce0b2",
   "metadata": {},
   "outputs": [],
   "source": [
    "endpoint = 'https://data.nashville.gov/resource/2u6v-ujjs.csv'"
   ]
  },
  {
   "cell_type": "code",
   "execution_count": null,
   "id": "0d0f7728",
   "metadata": {},
   "outputs": [],
   "source": [
    "##params = {\"incident_reported\": \"Floating Timestamp\", \"End if not specified\", 'api_key': api_key}"
   ]
  },
  {
   "cell_type": "code",
   "execution_count": 3,
   "id": "29ad97b4",
   "metadata": {},
   "outputs": [],
   "source": [
    "response = requests.get(endpoint)"
   ]
  },
  {
   "cell_type": "code",
   "execution_count": 4,
   "id": "bb0a66e9",
   "metadata": {},
   "outputs": [
    {
     "name": "stdout",
     "output_type": "stream",
     "text": [
      "\"primary_key\",\"incident_number\",\"report_type\",\"report_type_description\",\"incident_status_code\",\"incident_status_description\",\"investigation_status\",\"incident_occurred\",\"incident_reported\",\"incident_location\",\"latitude\",\"longitude\",\"zip_code\",\"rpa\",\"zone\",\"location_code\",\"location_description\",\"offense_number\",\"offense_nibrs\",\"offense_description\",\"weapon_primary\",\"weapon_description\",\"victim_number\",\"domestic_related\",\"victim_type\",\"victim_description\",\"victim_gender\",\"victim_race\",\"victim_ethnicity\",\"victim_county_resident\",\"mapped_location\"\n",
      "\"2021260418_11\",\"2021260418\",\"W\",\"WITNESS\",\"O\",\"OPEN\",\"Open\",\"2021-04-14T17:00:00.000\",\"2021-04-21T16:40:00.000\",\"HILLSIDE AVE\",\"36.14\",\"-86.78\",,\"6903\",\"815\",\"13\",\"HIGHWAY, ROAD, ALLEY\",\"1\",\"240\",\"VEHICLE THEFT\",\"17\",\"NONE\",\"1\",\"false\",\"I\",\"INDIVIDUAL (18 AND OVER)\",\"M\",\"W\",\"Non-Hispanic\",\"RESIDENT\",\"POINT (-86.78 36.14)\"\n",
      "\"20210519961_11\",\"20210519961\",\"S\",\"SUSPECT\",\"U\",\"UNFOUNDED\",\"Closed\",\"2021-09-25T00:00:00.000\",\"2021-10-04T22:59:00.000\",\"102\n"
     ]
    }
   ],
   "source": [
    "print(response.text[:1000])"
   ]
  },
  {
   "cell_type": "code",
   "execution_count": 6,
   "id": "383f7ec5",
   "metadata": {},
   "outputs": [],
   "source": [
    "from io import StringIO"
   ]
  },
  {
   "cell_type": "code",
   "execution_count": 8,
   "id": "ffd062e1",
   "metadata": {},
   "outputs": [],
   "source": [
    "burglaries = pd.read_csv(StringIO(response.text))"
   ]
  },
  {
   "cell_type": "code",
   "execution_count": 9,
   "id": "d5acbe8e",
   "metadata": {},
   "outputs": [
    {
     "data": {
      "text/html": [
       "<div>\n",
       "<style scoped>\n",
       "    .dataframe tbody tr th:only-of-type {\n",
       "        vertical-align: middle;\n",
       "    }\n",
       "\n",
       "    .dataframe tbody tr th {\n",
       "        vertical-align: top;\n",
       "    }\n",
       "\n",
       "    .dataframe thead th {\n",
       "        text-align: right;\n",
       "    }\n",
       "</style>\n",
       "<table border=\"1\" class=\"dataframe\">\n",
       "  <thead>\n",
       "    <tr style=\"text-align: right;\">\n",
       "      <th></th>\n",
       "      <th>primary_key</th>\n",
       "      <th>incident_number</th>\n",
       "      <th>report_type</th>\n",
       "      <th>report_type_description</th>\n",
       "      <th>incident_status_code</th>\n",
       "      <th>incident_status_description</th>\n",
       "      <th>investigation_status</th>\n",
       "      <th>incident_occurred</th>\n",
       "      <th>incident_reported</th>\n",
       "      <th>incident_location</th>\n",
       "      <th>...</th>\n",
       "      <th>weapon_description</th>\n",
       "      <th>victim_number</th>\n",
       "      <th>domestic_related</th>\n",
       "      <th>victim_type</th>\n",
       "      <th>victim_description</th>\n",
       "      <th>victim_gender</th>\n",
       "      <th>victim_race</th>\n",
       "      <th>victim_ethnicity</th>\n",
       "      <th>victim_county_resident</th>\n",
       "      <th>mapped_location</th>\n",
       "    </tr>\n",
       "  </thead>\n",
       "  <tbody>\n",
       "    <tr>\n",
       "      <th>0</th>\n",
       "      <td>2021260418_11</td>\n",
       "      <td>2021260418</td>\n",
       "      <td>W</td>\n",
       "      <td>WITNESS</td>\n",
       "      <td>O</td>\n",
       "      <td>OPEN</td>\n",
       "      <td>Open</td>\n",
       "      <td>2021-04-14T17:00:00.000</td>\n",
       "      <td>2021-04-21T16:40:00.000</td>\n",
       "      <td>HILLSIDE AVE</td>\n",
       "      <td>...</td>\n",
       "      <td>NONE</td>\n",
       "      <td>1</td>\n",
       "      <td>False</td>\n",
       "      <td>I</td>\n",
       "      <td>INDIVIDUAL (18 AND OVER)</td>\n",
       "      <td>M</td>\n",
       "      <td>W</td>\n",
       "      <td>Non-Hispanic</td>\n",
       "      <td>RESIDENT</td>\n",
       "      <td>POINT (-86.78 36.14)</td>\n",
       "    </tr>\n",
       "    <tr>\n",
       "      <th>1</th>\n",
       "      <td>20210519961_11</td>\n",
       "      <td>20210519961</td>\n",
       "      <td>S</td>\n",
       "      <td>SUSPECT</td>\n",
       "      <td>U</td>\n",
       "      <td>UNFOUNDED</td>\n",
       "      <td>Closed</td>\n",
       "      <td>2021-09-25T00:00:00.000</td>\n",
       "      <td>2021-10-04T22:59:00.000</td>\n",
       "      <td>1022 1022</td>\n",
       "      <td>...</td>\n",
       "      <td>NONE</td>\n",
       "      <td>1</td>\n",
       "      <td>False</td>\n",
       "      <td>I</td>\n",
       "      <td>INDIVIDUAL (18 AND OVER)</td>\n",
       "      <td>M</td>\n",
       "      <td>W</td>\n",
       "      <td>Non-Hispanic</td>\n",
       "      <td>RESIDENT</td>\n",
       "      <td>POINT (-86.718 36.278)</td>\n",
       "    </tr>\n",
       "    <tr>\n",
       "      <th>2</th>\n",
       "      <td>20210519825_11</td>\n",
       "      <td>20210519825</td>\n",
       "      <td>D</td>\n",
       "      <td>DISPATCHED</td>\n",
       "      <td>U</td>\n",
       "      <td>UNFOUNDED</td>\n",
       "      <td>Closed</td>\n",
       "      <td>2021-10-04T17:01:00.000</td>\n",
       "      <td>2021-10-04T21:44:00.000</td>\n",
       "      <td>2958 2958</td>\n",
       "      <td>...</td>\n",
       "      <td>NONE</td>\n",
       "      <td>1</td>\n",
       "      <td>False</td>\n",
       "      <td>I</td>\n",
       "      <td>INDIVIDUAL (18 AND OVER)</td>\n",
       "      <td>F</td>\n",
       "      <td>W</td>\n",
       "      <td>Non-Hispanic</td>\n",
       "      <td>RESIDENT</td>\n",
       "      <td>POINT (-86.778 36.359)</td>\n",
       "    </tr>\n",
       "    <tr>\n",
       "      <th>3</th>\n",
       "      <td>20210519800_11</td>\n",
       "      <td>20210519800</td>\n",
       "      <td>S</td>\n",
       "      <td>SUSPECT</td>\n",
       "      <td>O</td>\n",
       "      <td>OPEN</td>\n",
       "      <td>Open</td>\n",
       "      <td>2021-10-04T20:00:00.000</td>\n",
       "      <td>2021-10-04T21:18:00.000</td>\n",
       "      <td>SHELBY AVE</td>\n",
       "      <td>...</td>\n",
       "      <td>NONE</td>\n",
       "      <td>1</td>\n",
       "      <td>False</td>\n",
       "      <td>I</td>\n",
       "      <td>INDIVIDUAL (18 AND OVER)</td>\n",
       "      <td>F</td>\n",
       "      <td>W</td>\n",
       "      <td>Non-Hispanic</td>\n",
       "      <td>RESIDENT</td>\n",
       "      <td>POINT (-86.77 36.17)</td>\n",
       "    </tr>\n",
       "    <tr>\n",
       "      <th>4</th>\n",
       "      <td>20210519773_11</td>\n",
       "      <td>20210519773</td>\n",
       "      <td>D</td>\n",
       "      <td>DISPATCHED</td>\n",
       "      <td>U</td>\n",
       "      <td>UNFOUNDED</td>\n",
       "      <td>Closed</td>\n",
       "      <td>2021-10-04T19:56:00.000</td>\n",
       "      <td>2021-10-04T20:42:00.000</td>\n",
       "      <td>200 200</td>\n",
       "      <td>...</td>\n",
       "      <td>NONE</td>\n",
       "      <td>1</td>\n",
       "      <td>True</td>\n",
       "      <td>I</td>\n",
       "      <td>INDIVIDUAL (18 AND OVER)</td>\n",
       "      <td>F</td>\n",
       "      <td>W</td>\n",
       "      <td>Non-Hispanic</td>\n",
       "      <td>RESIDENT</td>\n",
       "      <td>POINT (-86.713 36.261)</td>\n",
       "    </tr>\n",
       "  </tbody>\n",
       "</table>\n",
       "<p>5 rows × 31 columns</p>\n",
       "</div>"
      ],
      "text/plain": [
       "      primary_key  incident_number report_type report_type_description  \\\n",
       "0   2021260418_11       2021260418           W                 WITNESS   \n",
       "1  20210519961_11      20210519961           S                 SUSPECT   \n",
       "2  20210519825_11      20210519825           D              DISPATCHED   \n",
       "3  20210519800_11      20210519800           S                 SUSPECT   \n",
       "4  20210519773_11      20210519773           D              DISPATCHED   \n",
       "\n",
       "  incident_status_code incident_status_description investigation_status  \\\n",
       "0                    O                        OPEN                 Open   \n",
       "1                    U                   UNFOUNDED               Closed   \n",
       "2                    U                   UNFOUNDED               Closed   \n",
       "3                    O                        OPEN                 Open   \n",
       "4                    U                   UNFOUNDED               Closed   \n",
       "\n",
       "         incident_occurred        incident_reported incident_location  ...  \\\n",
       "0  2021-04-14T17:00:00.000  2021-04-21T16:40:00.000      HILLSIDE AVE  ...   \n",
       "1  2021-09-25T00:00:00.000  2021-10-04T22:59:00.000         1022 1022  ...   \n",
       "2  2021-10-04T17:01:00.000  2021-10-04T21:44:00.000         2958 2958  ...   \n",
       "3  2021-10-04T20:00:00.000  2021-10-04T21:18:00.000        SHELBY AVE  ...   \n",
       "4  2021-10-04T19:56:00.000  2021-10-04T20:42:00.000           200 200  ...   \n",
       "\n",
       "   weapon_description  victim_number  domestic_related  victim_type  \\\n",
       "0                NONE              1             False            I   \n",
       "1                NONE              1             False            I   \n",
       "2                NONE              1             False            I   \n",
       "3                NONE              1             False            I   \n",
       "4                NONE              1              True            I   \n",
       "\n",
       "         victim_description  victim_gender victim_race  victim_ethnicity  \\\n",
       "0  INDIVIDUAL (18 AND OVER)              M           W      Non-Hispanic   \n",
       "1  INDIVIDUAL (18 AND OVER)              M           W      Non-Hispanic   \n",
       "2  INDIVIDUAL (18 AND OVER)              F           W      Non-Hispanic   \n",
       "3  INDIVIDUAL (18 AND OVER)              F           W      Non-Hispanic   \n",
       "4  INDIVIDUAL (18 AND OVER)              F           W      Non-Hispanic   \n",
       "\n",
       "  victim_county_resident         mapped_location  \n",
       "0               RESIDENT    POINT (-86.78 36.14)  \n",
       "1               RESIDENT  POINT (-86.718 36.278)  \n",
       "2               RESIDENT  POINT (-86.778 36.359)  \n",
       "3               RESIDENT    POINT (-86.77 36.17)  \n",
       "4               RESIDENT  POINT (-86.713 36.261)  \n",
       "\n",
       "[5 rows x 31 columns]"
      ]
     },
     "execution_count": 9,
     "metadata": {},
     "output_type": "execute_result"
    }
   ],
   "source": [
    "burglaries.head()"
   ]
  },
  {
   "cell_type": "code",
   "execution_count": null,
   "id": "bd09ddce",
   "metadata": {},
   "outputs": [],
   "source": [
    "##Census- Need to find my file\n",
    "with open('data/Census.json') as fi:\n",
    "    credentials = json.load(fi)\n",
    "    \n",
    "api_key = credentials['api_key']"
   ]
  },
  {
   "cell_type": "code",
   "execution_count": null,
   "id": "d949dc54",
   "metadata": {},
   "outputs": [],
   "source": [
    "##endpoint = https://www.census.gov/data/developers/data-sets/acs-5year.html"
   ]
  },
  {
   "cell_type": "code",
   "execution_count": null,
   "id": "76d25a09",
   "metadata": {},
   "outputs": [],
   "source": [
    "## params = {\"Key\": \"Type\", \"End if not specified\", 'api_key': api_key}"
   ]
  },
  {
   "cell_type": "code",
   "execution_count": null,
   "id": "6b811741",
   "metadata": {},
   "outputs": [],
   "source": [
    "## Get request example- respone = requests.get(endpoint, params = params)"
   ]
  },
  {
   "cell_type": "code",
   "execution_count": null,
   "id": "3dbde58e",
   "metadata": {},
   "outputs": [],
   "source": [
    "## Response should be 200 you do not want anything that starts with a  400"
   ]
  },
  {
   "cell_type": "code",
   "execution_count": null,
   "id": "15548d2c",
   "metadata": {},
   "outputs": [],
   "source": [
    "## response tab gives you your options. response.json() gives you dictionary"
   ]
  },
  {
   "cell_type": "code",
   "execution_count": null,
   "id": "846200f5",
   "metadata": {},
   "outputs": [],
   "source": []
  },
  {
   "cell_type": "code",
   "execution_count": null,
   "id": "08c52a6a",
   "metadata": {},
   "outputs": [],
   "source": []
  }
 ],
 "metadata": {
  "kernelspec": {
   "display_name": "Python 3 (ipykernel)",
   "language": "python",
   "name": "python3"
  },
  "language_info": {
   "codemirror_mode": {
    "name": "ipython",
    "version": 3
   },
   "file_extension": ".py",
   "mimetype": "text/x-python",
   "name": "python",
   "nbconvert_exporter": "python",
   "pygments_lexer": "ipython3",
   "version": "3.8.5"
  }
 },
 "nbformat": 4,
 "nbformat_minor": 5
}
