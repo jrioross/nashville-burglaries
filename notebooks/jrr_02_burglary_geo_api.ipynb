{
 "cells": [
  {
   "cell_type": "code",
   "execution_count": 1,
   "id": "cc032ace",
   "metadata": {},
   "outputs": [],
   "source": [
    "import pandas as pd\n",
    "import geopandas as gpd"
   ]
  },
  {
   "cell_type": "markdown",
   "id": "3a5b2893",
   "metadata": {},
   "source": [
    "# Problem 2: Census Tract Shapefiles\n",
    "\n",
    "Download the 2019 census tract shapefiles for Tennessee from https://www.census.gov/geographies/mapping-files/time-series/geo/tiger-line-file.2019.html. (The FIPS code for Tennessee is 47). Perform a spatial join to determine the census tract in which each burglary incident occurred. Which census tract had the highest number of burglaries? Warning - each incident can appear multiple times if there are multiple victims, so be sure that you aren't double-counting any incidents."
   ]
  },
  {
   "cell_type": "code",
   "execution_count": 2,
   "id": "73bfe204",
   "metadata": {},
   "outputs": [],
   "source": [
    "burglary = gpd.read_file('../data/burglary.geojson')"
   ]
  },
  {
   "cell_type": "code",
   "execution_count": 3,
   "id": "27df42de",
   "metadata": {},
   "outputs": [],
   "source": [
    "tn_shape = gpd.read_file(\"../data/tl_2019_47_tract.shp\").to_crs(crs = burglary.crs)\n",
    "tn_shape.columns = tn_shape.columns.str.lower()\n",
    "tn_shape = (tn_shape.rename(columns = {'statefp':'state',\n",
    "                            'countyfp':'county',\n",
    "                            'namelsad':'tract_name',\n",
    "                            'tractce':'tract'}\n",
    "                )\n",
    "                #.drop(columns = ['name', 'namelsad'])\n",
    "            )"
   ]
  },
  {
   "cell_type": "code",
   "execution_count": 4,
   "id": "68deb4bd",
   "metadata": {},
   "outputs": [],
   "source": [
    "tn_burglary = gpd.sjoin(tn_shape, burglary, op = 'contains')"
   ]
  },
  {
   "cell_type": "code",
   "execution_count": 5,
   "id": "475eea8f",
   "metadata": {},
   "outputs": [
    {
     "data": {
      "text/plain": [
       "tract\n",
       "016300    53\n",
       "016200    21\n",
       "011001    20\n",
       "019500    19\n",
       "019300    19\n",
       "          ..\n",
       "013602     1\n",
       "018202     1\n",
       "013202     1\n",
       "017902     1\n",
       "015627     1\n",
       "Length: 148, dtype: int64"
      ]
     },
     "execution_count": 5,
     "metadata": {},
     "output_type": "execute_result"
    }
   ],
   "source": [
    "tn_burglary.value_counts('tract')"
   ]
  },
  {
   "cell_type": "code",
   "execution_count": 6,
   "id": "f427565d",
   "metadata": {},
   "outputs": [],
   "source": [
    "tn_burglary.to_file(\"../data/tn_burglary.geojson\", index = False, driver = 'GeoJSON')"
   ]
  }
 ],
 "metadata": {
  "kernelspec": {
   "display_name": "Python 3",
   "language": "python",
   "name": "python3"
  },
  "language_info": {
   "codemirror_mode": {
    "name": "ipython",
    "version": 3
   },
   "file_extension": ".py",
   "mimetype": "text/x-python",
   "name": "python",
   "nbconvert_exporter": "python",
   "pygments_lexer": "ipython3",
   "version": "3.8.5"
  }
 },
 "nbformat": 4,
 "nbformat_minor": 5
}
