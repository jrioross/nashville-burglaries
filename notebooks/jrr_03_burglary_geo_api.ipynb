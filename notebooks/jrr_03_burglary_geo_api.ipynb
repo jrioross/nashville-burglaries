{
 "cells": [
  {
   "cell_type": "code",
   "execution_count": 1,
   "id": "21c09b46",
   "metadata": {},
   "outputs": [],
   "source": [
    "import json\n",
    "import requests\n",
    "import pandas as pd\n",
    "import geopandas as gpd"
   ]
  },
  {
   "cell_type": "markdown",
   "id": "44def606",
   "metadata": {},
   "source": [
    "# Problem 3: Populations\n",
    "\n",
    "For this part, you'll need to request a census API key. Using the 2019 American Community Survey API, obtain, for each census tract, the population (B01001_001E in the detailed tables) and the median income (S1901_C01_012E in the subject tables). Hint: Tennessee's FIPS code is 47 and Davidson County's FIPS code is 37. Merge this new data with the burglaries data above."
   ]
  },
  {
   "cell_type": "code",
   "execution_count": 2,
   "id": "3e5a711a",
   "metadata": {},
   "outputs": [],
   "source": [
    "with open('C:/Users/jrior/Documents/NSS/api_keys.json') as fi:\n",
    "    credentials = json.load(fi)\n",
    "    \n",
    "api_key = credentials['census_data']"
   ]
  },
  {
   "cell_type": "code",
   "execution_count": 3,
   "id": "ff685e37",
   "metadata": {},
   "outputs": [
    {
     "data": {
      "text/plain": [
       "<Response [200]>"
      ]
     },
     "execution_count": 3,
     "metadata": {},
     "output_type": "execute_result"
    }
   ],
   "source": [
    "endpoint = \"https://api.census.gov/data/2019/acs/acs5?\"\n",
    "query = f\"get=NAME,B01001_001E&for=tract:*&in=state:47\"#&key={api_key}\"\n",
    "response2 = requests.get(endpoint+query)\n",
    "response2"
   ]
  },
  {
   "cell_type": "code",
   "execution_count": 4,
   "id": "c3e8c6c6",
   "metadata": {},
   "outputs": [],
   "source": [
    "res2_dict = response2.json()\n",
    "tn_pops = pd.DataFrame().from_dict(res2_dict)\n",
    "tn_pops.columns = tn_pops.loc[0]\n",
    "tn_pops = (tn_pops.drop(tn_pops.index[0])\n",
    "           .reset_index(drop = True)\n",
    "           .rename(columns = {'NAME': 'name',\n",
    "                              'B01001_001E': 'population'}\n",
    "                  )\n",
    "           .astype({'population':'int'})\n",
    "          )"
   ]
  },
  {
   "cell_type": "code",
   "execution_count": 5,
   "id": "5e987a81",
   "metadata": {},
   "outputs": [
    {
     "data": {
      "text/plain": [
       "<Response [200]>"
      ]
     },
     "execution_count": 5,
     "metadata": {},
     "output_type": "execute_result"
    }
   ],
   "source": [
    "endpoint = \"https://api.census.gov/data/2019/acs/acs5/subject?\"\n",
    "query = f\"get=NAME,S1901_C01_012E&for=tract:*&in=state:47\"#&key={api_key}\"\n",
    "response3 = requests.get(endpoint+query)\n",
    "response3"
   ]
  },
  {
   "cell_type": "code",
   "execution_count": 6,
   "id": "fb37a32c",
   "metadata": {},
   "outputs": [],
   "source": [
    "res3_dict = response3.json()\n",
    "tn_med_inc = pd.DataFrame().from_dict(res3_dict)\n",
    "tn_med_inc.columns = tn_med_inc.loc[0]\n",
    "tn_med_inc = (tn_med_inc.drop(tn_med_inc.index[0])\n",
    "              .reset_index(drop = True)\n",
    "              .rename(columns = {'NAME': 'name',\n",
    "                                 'S1901_C01_012E': 'median_income'}\n",
    "                     )\n",
    "              .astype({'median_income':'int'})\n",
    "             )"
   ]
  },
  {
   "cell_type": "code",
   "execution_count": 7,
   "id": "c48746cf",
   "metadata": {},
   "outputs": [],
   "source": [
    "endpoint = \"https://api.census.gov/data/2019/acs/acs5/?\"\n",
    "query = f\"get=NAME,B19083_001E&for=tract:*&in=state:47\"#&key={api_key}\"\n",
    "response4 = requests.get(endpoint+query)\n",
    "response4\n",
    "res4_dict = response4.json()\n",
    "tn_gini = pd.DataFrame().from_dict(res4_dict)\n",
    "tn_gini.columns = tn_gini.loc[0]\n",
    "tn_gini = (tn_gini.drop(tn_gini.index[0])\n",
    "              .reset_index(drop = True)\n",
    "              .rename(columns = {'NAME': 'name',\n",
    "                                 'B19083_001E': 'gini_index'}\n",
    "                     )\n",
    "              .astype({'gini_index':'float'})\n",
    "             )"
   ]
  },
  {
   "cell_type": "code",
   "execution_count": 8,
   "id": "d2f43f19",
   "metadata": {},
   "outputs": [],
   "source": [
    "tn_census = (tn_pops.merge(tn_med_inc)\n",
    "                   .merge(tn_gini)\n",
    "            )\n",
    "\n",
    "tn_census[['county_name', 'state_name']] = (tn_census['name'].str.split(pat = ', ',\n",
    "                                         expand = True\n",
    "                                        )\n",
    "                                       .drop(columns = [0])\n",
    "    )\n",
    "tn_census = tn_census.drop(columns = 'name')"
   ]
  },
  {
   "cell_type": "code",
   "execution_count": 9,
   "id": "3a738496",
   "metadata": {},
   "outputs": [],
   "source": [
    "tn_burglary = gpd.read_file(\"../data/tn_burglary.geojson\")"
   ]
  },
  {
   "cell_type": "code",
   "execution_count": 10,
   "id": "57d34386",
   "metadata": {},
   "outputs": [],
   "source": [
    "tn = tn_census.merge(tn_burglary)\n",
    "tn = gpd.GeoDataFrame(tn)"
   ]
  },
  {
   "cell_type": "code",
   "execution_count": 11,
   "id": "dd152c88",
   "metadata": {},
   "outputs": [],
   "source": [
    "tn.to_file(\"../data/tn.geojson\", index = False, driver='GeoJSON')"
   ]
  }
 ],
 "metadata": {
  "kernelspec": {
   "display_name": "Python 3",
   "language": "python",
   "name": "python3"
  },
  "language_info": {
   "codemirror_mode": {
    "name": "ipython",
    "version": 3
   },
   "file_extension": ".py",
   "mimetype": "text/x-python",
   "name": "python",
   "nbconvert_exporter": "python",
   "pygments_lexer": "ipython3",
   "version": "3.8.5"
  }
 },
 "nbformat": 4,
 "nbformat_minor": 5
}
