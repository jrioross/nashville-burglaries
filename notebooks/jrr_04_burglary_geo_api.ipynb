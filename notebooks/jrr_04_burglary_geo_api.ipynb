{
 "cells": [
  {
   "cell_type": "code",
   "execution_count": 10,
   "id": "0fe95989",
   "metadata": {},
   "outputs": [],
   "source": [
    "import numpy as np\n",
    "import pandas as pd\n",
    "import geopandas as gpd\n",
    "import folium"
   ]
  },
  {
   "cell_type": "markdown",
   "id": "fba6ef86",
   "metadata": {},
   "source": [
    "# Problem 4\n",
    "\n",
    "Create a choropleth showing the number of burglaries per 1000 residents for each census tract."
   ]
  },
  {
   "cell_type": "code",
   "execution_count": 11,
   "id": "1ef25d8e",
   "metadata": {},
   "outputs": [],
   "source": [
    "tn = gpd.read_file('../data/tn.geojson')\n",
    "tn_shape = gpd.read_file(\"../data/tl_2019_47_tract.shp\").to_crs(crs = tn.crs)\n",
    "tn_shape.columns = tn_shape.columns.str.lower()\n",
    "tn_shape = (tn_shape.rename(columns = {'statefp':'state',\n",
    "                            'countyfp':'county',\n",
    "                            'namelsad':'tract_name',\n",
    "                            'tractce':'tract'}\n",
    "                )\n",
    "                #.drop(columns = ['name', 'namelsad'])\n",
    "            )"
   ]
  },
  {
   "cell_type": "code",
   "execution_count": 12,
   "id": "93e173b8",
   "metadata": {},
   "outputs": [],
   "source": [
    "tn['burglary_count'] = tn.groupby('tract')['tract'].transform('count')"
   ]
  },
  {
   "cell_type": "code",
   "execution_count": 13,
   "id": "680260c6",
   "metadata": {},
   "outputs": [],
   "source": [
    "tn['burgs_per_1000'] = (tn['burglary_count'] * 1000) / tn['population']"
   ]
  },
  {
   "cell_type": "code",
   "execution_count": 14,
   "id": "2e114a11",
   "metadata": {},
   "outputs": [],
   "source": [
    "tnt = tn[tn['burgs_per_1000'] != np.inf]\n",
    "droplist = ['state', 'name', 'state_name', 'tract_name', 'mtfcc',\n",
    "           'funcstat', 'index_right', 'rpa', 'intptlat', \n",
    "           'intptlon', 'location_code',\n",
    "           'report_type', 'incident_reported', 'weapon_description',\n",
    "           'weapon_primary', 'report_type_description',\n",
    "           'incident_status_code', 'incident_status_description', \n",
    "           'primary_key', 'geoid']\n",
    "tnt = tnt.drop(columns = droplist)\n",
    "tnt['aland'] = tnt['aland']/2589988\n",
    "tnt['population_density'] = tnt['population'] / tnt['aland']"
   ]
  },
  {
   "cell_type": "code",
   "execution_count": 15,
   "id": "42c6644f",
   "metadata": {},
   "outputs": [],
   "source": [
    "tnt.to_file('../data/tnt.geojson', index = False, driver = 'GeoJSON')"
   ]
  },
  {
   "cell_type": "code",
   "execution_count": 16,
   "id": "a25a711a",
   "metadata": {},
   "outputs": [
    {
     "name": "stderr",
     "output_type": "stream",
     "text": [
      "<ipython-input-16-4a97647ee8ad>:1: UserWarning: Geometry is in a geographic CRS. Results from 'centroid' are likely incorrect. Use 'GeoSeries.to_crs()' to re-project geometries to a projected CRS before this operation.\n",
      "\n",
      "  centroid163 = tn_shape.loc[tn_shape['tract'] == '016300', 'geometry'].centroid\n"
     ]
    }
   ],
   "source": [
    "centroid163 = tn_shape.loc[tn_shape['tract'] == '016300', 'geometry'].centroid"
   ]
  },
  {
   "cell_type": "code",
   "execution_count": null,
   "id": "15955cbf",
   "metadata": {
    "scrolled": true
   },
   "outputs": [],
   "source": [
    "m = folium.Map(location=[centroid163.y,centroid163.x], zoom_start=12)\n",
    "\n",
    "folium.Choropleth(\n",
    "    geo_data=tnt,\n",
    "    name=\"choropleth\",\n",
    "    data=tnt,\n",
    "    columns=[\"tract\",\"burgs_per_1000\"],\n",
    "    key_on=\"feature.properties.tract\",\n",
    "    fill_color=\"Spectral\",\n",
    "    fill_opacity=0.7,\n",
    "    line_opacity=.1,\n",
    "    legend_name=\"Burglaries Per 1000 People\",\n",
    ").add_to(m)\n",
    "\n",
    "folium.LayerControl().add_to(m)\n",
    "\n",
    "m"
   ]
  }
 ],
 "metadata": {
  "kernelspec": {
   "display_name": "Python 3",
   "language": "python",
   "name": "python3"
  },
  "language_info": {
   "codemirror_mode": {
    "name": "ipython",
    "version": 3
   },
   "file_extension": ".py",
   "mimetype": "text/x-python",
   "name": "python",
   "nbconvert_exporter": "python",
   "pygments_lexer": "ipython3",
   "version": "3.8.5"
  }
 },
 "nbformat": 4,
 "nbformat_minor": 5
}
