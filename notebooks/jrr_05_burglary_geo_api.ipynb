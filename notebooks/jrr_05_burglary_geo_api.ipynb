{
 "cells": [
  {
   "cell_type": "code",
   "execution_count": 1,
   "id": "b7185c11",
   "metadata": {},
   "outputs": [],
   "source": [
    "import pandas as pd\n",
    "import geopandas as gpd\n",
    "import numpy as np\n",
    "import matplotlib.pyplot as plt\n",
    "import seaborn as sns\n",
    "from jupyterthemes import jtplot\n",
    "jtplot.style()\n",
    "import statsmodels.api as sm\n",
    "from patsy import dmatrices\n",
    "import statsmodels.formula.api as smf"
   ]
  },
  {
   "cell_type": "markdown",
   "id": "dff0490a",
   "metadata": {},
   "source": [
    "# Problem 5\n",
    "\n",
    "Finally, we'll build some statistical models to see how well we can explain the number of aggravated burglaries using the median income of each census tract. For this, we'll be using the Generalized Linear Models module of the statsmodels library."
   ]
  },
  {
   "cell_type": "code",
   "execution_count": 2,
   "id": "c02d5303",
   "metadata": {},
   "outputs": [],
   "source": [
    "tnt = gpd.read_file('../data/tnt.geojson')"
   ]
  },
  {
   "cell_type": "code",
   "execution_count": 3,
   "id": "63229f38",
   "metadata": {},
   "outputs": [],
   "source": [
    "tnmod = (tnt[['tract', 'burgs_per_1000', 'population_density', 'gini_index', 'population', 'aland', 'median_income']]\n",
    "         .drop_duplicates()\n",
    "        )\n",
    "tnmod = tnmod[tnmod['median_income'] >= 0]"
   ]
  },
  {
   "cell_type": "markdown",
   "id": "fad5be71",
   "metadata": {},
   "source": [
    "a. Build a \"base model\" - a Poisson regression model with just an intercept term with target variable the rate of burglaries per census tract. (Offset using the [log of the] population so that we are looking at the rate of burglaries per population instead of the number of burglaries.)"
   ]
  },
  {
   "cell_type": "code",
   "execution_count": 4,
   "id": "eccbb0ac",
   "metadata": {},
   "outputs": [],
   "source": [
    "poisreg_burg_base = (sm.GLM(endog = tnmod['burgs_per_1000'],\n",
    "                       exog = sm.add_constant(tnmod[[]]),\n",
    "                       family = sm.families.Poisson(),\n",
    "                       offset = np.log((1/1000)*tnmod['population'])\n",
    "                      )\n",
    "                  .fit()\n",
    "               )"
   ]
  },
  {
   "cell_type": "code",
   "execution_count": 5,
   "id": "9131731a",
   "metadata": {},
   "outputs": [
    {
     "data": {
      "text/html": [
       "<table class=\"simpletable\">\n",
       "<caption>Generalized Linear Model Regression Results</caption>\n",
       "<tr>\n",
       "  <th>Dep. Variable:</th>    <td>burgs_per_1000</td>  <th>  No. Observations:  </th>  <td>   146</td> \n",
       "</tr>\n",
       "<tr>\n",
       "  <th>Model:</th>                  <td>GLM</td>       <th>  Df Residuals:      </th>  <td>   145</td> \n",
       "</tr>\n",
       "<tr>\n",
       "  <th>Model Family:</th>         <td>Poisson</td>     <th>  Df Model:          </th>  <td>     0</td> \n",
       "</tr>\n",
       "<tr>\n",
       "  <th>Link Function:</th>          <td>log</td>       <th>  Scale:             </th> <td>  1.0000</td>\n",
       "</tr>\n",
       "<tr>\n",
       "  <th>Method:</th>                <td>IRLS</td>       <th>  Log-Likelihood:    </th> <td> -307.68</td>\n",
       "</tr>\n",
       "<tr>\n",
       "  <th>Date:</th>            <td>Sat, 09 Oct 2021</td> <th>  Deviance:          </th> <td>  316.55</td>\n",
       "</tr>\n",
       "<tr>\n",
       "  <th>Time:</th>                <td>14:04:05</td>     <th>  Pearson chi2:      </th>  <td>  906.</td> \n",
       "</tr>\n",
       "<tr>\n",
       "  <th>No. Iterations:</th>          <td>5</td>        <th>                     </th>     <td> </td>   \n",
       "</tr>\n",
       "<tr>\n",
       "  <th>Covariance Type:</th>     <td>nonrobust</td>    <th>                     </th>     <td> </td>   \n",
       "</tr>\n",
       "</table>\n",
       "<table class=\"simpletable\">\n",
       "<tr>\n",
       "    <td></td>       <th>coef</th>     <th>std err</th>      <th>z</th>      <th>P>|z|</th>  <th>[0.025</th>    <th>0.975]</th>  \n",
       "</tr>\n",
       "<tr>\n",
       "  <th>const</th> <td>   -1.0925</td> <td>    0.068</td> <td>  -16.126</td> <td> 0.000</td> <td>   -1.225</td> <td>   -0.960</td>\n",
       "</tr>\n",
       "</table>"
      ],
      "text/plain": [
       "<class 'statsmodels.iolib.summary.Summary'>\n",
       "\"\"\"\n",
       "                 Generalized Linear Model Regression Results                  \n",
       "==============================================================================\n",
       "Dep. Variable:         burgs_per_1000   No. Observations:                  146\n",
       "Model:                            GLM   Df Residuals:                      145\n",
       "Model Family:                 Poisson   Df Model:                            0\n",
       "Link Function:                    log   Scale:                          1.0000\n",
       "Method:                          IRLS   Log-Likelihood:                -307.68\n",
       "Date:                Sat, 09 Oct 2021   Deviance:                       316.55\n",
       "Time:                        14:04:05   Pearson chi2:                     906.\n",
       "No. Iterations:                     5                                         \n",
       "Covariance Type:            nonrobust                                         \n",
       "==============================================================================\n",
       "                 coef    std err          z      P>|z|      [0.025      0.975]\n",
       "------------------------------------------------------------------------------\n",
       "const         -1.0925      0.068    -16.126      0.000      -1.225      -0.960\n",
       "==============================================================================\n",
       "\"\"\""
      ]
     },
     "execution_count": 5,
     "metadata": {},
     "output_type": "execute_result"
    }
   ],
   "source": [
    "poisreg_burg_base.summary()"
   ]
  },
  {
   "cell_type": "code",
   "execution_count": 6,
   "id": "699ab202",
   "metadata": {},
   "outputs": [
    {
     "data": {
      "text/plain": [
       "617.3673343946223"
      ]
     },
     "execution_count": 6,
     "metadata": {},
     "output_type": "execute_result"
    }
   ],
   "source": [
    "poisreg_burg_base.aic"
   ]
  },
  {
   "cell_type": "markdown",
   "id": "2eade425",
   "metadata": {},
   "source": [
    "b. Now, build a Poisson regression model with target variable the rate of burglaries and predictor variable the median income. (Don't forget to offset by the population)."
   ]
  },
  {
   "cell_type": "code",
   "execution_count": 7,
   "id": "1edd3563",
   "metadata": {},
   "outputs": [],
   "source": [
    "poisreg_burg_mi = (sm.GLM(endog = tnmod['burgs_per_1000'],\n",
    "                       exog = sm.add_constant(tnmod[['median_income']]),\n",
    "                       family = sm.families.Poisson(),\n",
    "                       offset = np.log((1/1000)*tnmod['population'])\n",
    "                      )\n",
    "                  .fit()\n",
    "               )"
   ]
  },
  {
   "cell_type": "code",
   "execution_count": 8,
   "id": "63891593",
   "metadata": {},
   "outputs": [
    {
     "data": {
      "text/html": [
       "<table class=\"simpletable\">\n",
       "<caption>Generalized Linear Model Regression Results</caption>\n",
       "<tr>\n",
       "  <th>Dep. Variable:</th>    <td>burgs_per_1000</td>  <th>  No. Observations:  </th>  <td>   146</td> \n",
       "</tr>\n",
       "<tr>\n",
       "  <th>Model:</th>                  <td>GLM</td>       <th>  Df Residuals:      </th>  <td>   144</td> \n",
       "</tr>\n",
       "<tr>\n",
       "  <th>Model Family:</th>         <td>Poisson</td>     <th>  Df Model:          </th>  <td>     1</td> \n",
       "</tr>\n",
       "<tr>\n",
       "  <th>Link Function:</th>          <td>log</td>       <th>  Scale:             </th> <td>  1.0000</td>\n",
       "</tr>\n",
       "<tr>\n",
       "  <th>Method:</th>                <td>IRLS</td>       <th>  Log-Likelihood:    </th> <td> -279.01</td>\n",
       "</tr>\n",
       "<tr>\n",
       "  <th>Date:</th>            <td>Sat, 09 Oct 2021</td> <th>  Deviance:          </th> <td>  259.19</td>\n",
       "</tr>\n",
       "<tr>\n",
       "  <th>Time:</th>                <td>14:04:06</td>     <th>  Pearson chi2:      </th>  <td>  682.</td> \n",
       "</tr>\n",
       "<tr>\n",
       "  <th>No. Iterations:</th>          <td>5</td>        <th>                     </th>     <td> </td>   \n",
       "</tr>\n",
       "<tr>\n",
       "  <th>Covariance Type:</th>     <td>nonrobust</td>    <th>                     </th>     <td> </td>   \n",
       "</tr>\n",
       "</table>\n",
       "<table class=\"simpletable\">\n",
       "<tr>\n",
       "        <td></td>           <th>coef</th>     <th>std err</th>      <th>z</th>      <th>P>|z|</th>  <th>[0.025</th>    <th>0.975]</th>  \n",
       "</tr>\n",
       "<tr>\n",
       "  <th>const</th>         <td>    0.3200</td> <td>    0.198</td> <td>    1.619</td> <td> 0.106</td> <td>   -0.067</td> <td>    0.707</td>\n",
       "</tr>\n",
       "<tr>\n",
       "  <th>median_income</th> <td>-2.445e-05</td> <td> 3.54e-06</td> <td>   -6.898</td> <td> 0.000</td> <td>-3.14e-05</td> <td>-1.75e-05</td>\n",
       "</tr>\n",
       "</table>"
      ],
      "text/plain": [
       "<class 'statsmodels.iolib.summary.Summary'>\n",
       "\"\"\"\n",
       "                 Generalized Linear Model Regression Results                  \n",
       "==============================================================================\n",
       "Dep. Variable:         burgs_per_1000   No. Observations:                  146\n",
       "Model:                            GLM   Df Residuals:                      144\n",
       "Model Family:                 Poisson   Df Model:                            1\n",
       "Link Function:                    log   Scale:                          1.0000\n",
       "Method:                          IRLS   Log-Likelihood:                -279.01\n",
       "Date:                Sat, 09 Oct 2021   Deviance:                       259.19\n",
       "Time:                        14:04:06   Pearson chi2:                     682.\n",
       "No. Iterations:                     5                                         \n",
       "Covariance Type:            nonrobust                                         \n",
       "=================================================================================\n",
       "                    coef    std err          z      P>|z|      [0.025      0.975]\n",
       "---------------------------------------------------------------------------------\n",
       "const             0.3200      0.198      1.619      0.106      -0.067       0.707\n",
       "median_income -2.445e-05   3.54e-06     -6.898      0.000   -3.14e-05   -1.75e-05\n",
       "=================================================================================\n",
       "\"\"\""
      ]
     },
     "execution_count": 8,
     "metadata": {},
     "output_type": "execute_result"
    }
   ],
   "source": [
    "poisreg_burg_mi.summary()"
   ]
  },
  {
   "cell_type": "code",
   "execution_count": 9,
   "id": "218a13ae",
   "metadata": {},
   "outputs": [
    {
     "data": {
      "text/plain": [
       "562.014148706556"
      ]
     },
     "execution_count": 9,
     "metadata": {},
     "output_type": "execute_result"
    }
   ],
   "source": [
    "poisreg_burg_mi.aic"
   ]
  },
  {
   "cell_type": "markdown",
   "id": "8eed2590",
   "metadata": {},
   "source": [
    "c. Finally, try out a negative binomial model. To get started with a negative binomial model, you can check out this tutorial.\n",
    "\n",
    "Start with just median_income in tract burgs, but once it works, parse the date in tn_burglaries and look for patterns."
   ]
  },
  {
   "cell_type": "code",
   "execution_count": 10,
   "id": "885cd477",
   "metadata": {},
   "outputs": [],
   "source": [
    "def nb2(df, target, offset_col, exp_vars):\n",
    "    \"\"\"Create NB2 model\"\"\"\n",
    "    #Setup the regression expression in patsy notation. \n",
    "    #We are telling patsy that burgs_per_1000 is our dependent variable and it depends on the regression variables: median_income\n",
    "    expr = f\"{target} ~ {' + '.join(exp_vars)}\"\n",
    "\n",
    "    #Set up the X and y matrices for the training and testing data sets\n",
    "    y_train, X_train = dmatrices(expr, df, return_type='dataframe')\n",
    "\n",
    "    #Using the statsmodels GLM class, train the Poisson regression model on the training data set\n",
    "    poisson_training_results = (sm.GLM(y_train, \n",
    "                                      X_train, \n",
    "                                      family=sm.families.Poisson(),\n",
    "                                      offset = np.log((1/1000)*df[offset_col])\n",
    "                                      )\n",
    "                                      .fit()\n",
    "                                )\n",
    "\n",
    "    #print out the training summary\n",
    "    print(poisson_training_results.summary())\n",
    "\n",
    "    #print out the fitted rate vector\n",
    "    #print(poisson_training_results.mu)\n",
    "\n",
    "    #Add the λ vector as a new column called 'BB_LAMBDA' to the Data Frame of the training data set\n",
    "    df['TB_LAMBDA'] = poisson_training_results.mu\n",
    "\n",
    "    #add a derived column called 'AUX_OLS_DEP' to the pandas DataFrame. This new column will store the values of the dependent variable of the OLS regression\n",
    "    df['AUX_OLS_DEP'] = df.apply(lambda x: ((x[target] - x['TB_LAMBDA'])**2 - x['TB_LAMBDA']) / x['TB_LAMBDA'], axis=1)\n",
    "\n",
    "    #use patsy to form the model specification for the OLSR\n",
    "    ols_expr = \"\"\"AUX_OLS_DEP ~ TB_LAMBDA - 1\"\"\"\n",
    "\n",
    "    #Configure and fit the OLSR model\n",
    "    aux_olsr_results = smf.ols(ols_expr, df).fit()\n",
    "\n",
    "    #Print the regression params\n",
    "    print(aux_olsr_results.params)\n",
    "\n",
    "    #train the NB2 model on the training data set\n",
    "    nb2_training_results = sm.GLM(y_train, X_train,family=sm.families.NegativeBinomial(alpha=aux_olsr_results.params[0])).fit()\n",
    "\n",
    "    #print the training summary\n",
    "    print(nb2_training_results.summary())\n",
    "    print(' Poisson AIC: '+str(poisson_training_results.aic), '\\n',\n",
    "          'NB2 AIC: '+str(nb2_training_results.aic)\n",
    "         )\n",
    "    \n",
    "    return nb2_training_results"
   ]
  },
  {
   "cell_type": "code",
   "execution_count": 11,
   "id": "6eda6d55",
   "metadata": {},
   "outputs": [
    {
     "name": "stdout",
     "output_type": "stream",
     "text": [
      "                 Generalized Linear Model Regression Results                  \n",
      "==============================================================================\n",
      "Dep. Variable:         burgs_per_1000   No. Observations:                  146\n",
      "Model:                            GLM   Df Residuals:                      144\n",
      "Model Family:                 Poisson   Df Model:                            1\n",
      "Link Function:                    log   Scale:                          1.0000\n",
      "Method:                          IRLS   Log-Likelihood:                -279.01\n",
      "Date:                Sat, 09 Oct 2021   Deviance:                       259.19\n",
      "Time:                        14:04:06   Pearson chi2:                     682.\n",
      "No. Iterations:                     5                                         \n",
      "Covariance Type:            nonrobust                                         \n",
      "=================================================================================\n",
      "                    coef    std err          z      P>|z|      [0.025      0.975]\n",
      "---------------------------------------------------------------------------------\n",
      "Intercept         0.3200      0.198      1.619      0.106      -0.067       0.707\n",
      "median_income -2.445e-05   3.54e-06     -6.898      0.000   -3.14e-05   -1.75e-05\n",
      "=================================================================================\n",
      "TB_LAMBDA    1.053393\n",
      "dtype: float64\n",
      "                 Generalized Linear Model Regression Results                  \n",
      "==============================================================================\n",
      "Dep. Variable:         burgs_per_1000   No. Observations:                  146\n",
      "Model:                            GLM   Df Residuals:                      144\n",
      "Model Family:        NegativeBinomial   Df Model:                            1\n",
      "Link Function:                    log   Scale:                          1.0000\n",
      "Method:                          IRLS   Log-Likelihood:                -239.09\n",
      "Date:                Sat, 09 Oct 2021   Deviance:                       49.799\n",
      "Time:                        14:04:06   Pearson chi2:                     118.\n",
      "No. Iterations:                     8                                         \n",
      "Covariance Type:            nonrobust                                         \n",
      "=================================================================================\n",
      "                    coef    std err          z      P>|z|      [0.025      0.975]\n",
      "---------------------------------------------------------------------------------\n",
      "Intercept         1.3109      0.296      4.425      0.000       0.730       1.892\n",
      "median_income -1.589e-05   4.72e-06     -3.370      0.001   -2.51e-05   -6.65e-06\n",
      "=================================================================================\n",
      " Poisson AIC: 562.014148706556 \n",
      " NB2 AIC: 482.17972219341664\n"
     ]
    },
    {
     "data": {
      "text/plain": [
       "<statsmodels.genmod.generalized_linear_model.GLMResultsWrapper at 0x2bcefea9b50>"
      ]
     },
     "execution_count": 11,
     "metadata": {},
     "output_type": "execute_result"
    }
   ],
   "source": [
    "nb2(df = tnmod, target = 'burgs_per_1000', offset_col = 'population', exp_vars = ['median_income'])"
   ]
  },
  {
   "cell_type": "code",
   "execution_count": 12,
   "id": "cbc91011",
   "metadata": {},
   "outputs": [
    {
     "name": "stdout",
     "output_type": "stream",
     "text": [
      "                 Generalized Linear Model Regression Results                  \n",
      "==============================================================================\n",
      "Dep. Variable:         burgs_per_1000   No. Observations:                  146\n",
      "Model:                            GLM   Df Residuals:                      143\n",
      "Model Family:                 Poisson   Df Model:                            2\n",
      "Link Function:                    log   Scale:                          1.0000\n",
      "Method:                          IRLS   Log-Likelihood:                -276.80\n",
      "Date:                Sat, 09 Oct 2021   Deviance:                       254.77\n",
      "Time:                        14:04:06   Pearson chi2:                     642.\n",
      "No. Iterations:                     5                                         \n",
      "Covariance Type:            nonrobust                                         \n",
      "======================================================================================\n",
      "                         coef    std err          z      P>|z|      [0.025      0.975]\n",
      "--------------------------------------------------------------------------------------\n",
      "Intercept             -0.0263      0.260     -0.101      0.919      -0.535       0.482\n",
      "median_income      -2.228e-05   3.68e-06     -6.061      0.000   -2.95e-05   -1.51e-05\n",
      "population_density  6.575e-05   3.06e-05      2.149      0.032    5.79e-06       0.000\n",
      "======================================================================================\n",
      "TB_LAMBDA    1.022246\n",
      "dtype: float64\n",
      "                 Generalized Linear Model Regression Results                  \n",
      "==============================================================================\n",
      "Dep. Variable:         burgs_per_1000   No. Observations:                  146\n",
      "Model:                            GLM   Df Residuals:                      143\n",
      "Model Family:        NegativeBinomial   Df Model:                            2\n",
      "Link Function:                    log   Scale:                          1.0000\n",
      "Method:                          IRLS   Log-Likelihood:                -237.09\n",
      "Date:                Sat, 09 Oct 2021   Deviance:                       48.518\n",
      "Time:                        14:04:06   Pearson chi2:                     98.7\n",
      "No. Iterations:                     8                                         \n",
      "Covariance Type:            nonrobust                                         \n",
      "======================================================================================\n",
      "                         coef    std err          z      P>|z|      [0.025      0.975]\n",
      "--------------------------------------------------------------------------------------\n",
      "Intercept              0.9388      0.391      2.399      0.016       0.172       1.706\n",
      "median_income      -1.417e-05   4.85e-06     -2.922      0.003   -2.37e-05   -4.67e-06\n",
      "population_density  8.067e-05   5.46e-05      1.478      0.139   -2.63e-05       0.000\n",
      "======================================================================================\n",
      " Poisson AIC: 559.5946033828445 \n",
      " NB2 AIC: 480.182173408886\n"
     ]
    },
    {
     "data": {
      "text/plain": [
       "<statsmodels.genmod.generalized_linear_model.GLMResultsWrapper at 0x2bcefeb95b0>"
      ]
     },
     "execution_count": 12,
     "metadata": {},
     "output_type": "execute_result"
    }
   ],
   "source": [
    "nb2(df = tnmod[tnmod['median_income'] >= 0], target = 'burgs_per_1000', offset_col = 'population', exp_vars = ['median_income', 'population_density'])"
   ]
  },
  {
   "cell_type": "code",
   "execution_count": 13,
   "id": "af9786f6",
   "metadata": {},
   "outputs": [
    {
     "name": "stdout",
     "output_type": "stream",
     "text": [
      "                 Generalized Linear Model Regression Results                  \n",
      "==============================================================================\n",
      "Dep. Variable:         burgs_per_1000   No. Observations:                  146\n",
      "Model:                            GLM   Df Residuals:                      142\n",
      "Model Family:                 Poisson   Df Model:                            3\n",
      "Link Function:                    log   Scale:                          1.0000\n",
      "Method:                          IRLS   Log-Likelihood:                -264.02\n",
      "Date:                Sat, 09 Oct 2021   Deviance:                       229.22\n",
      "Time:                        14:04:06   Pearson chi2:                     531.\n",
      "No. Iterations:                     5                                         \n",
      "Covariance Type:            nonrobust                                         \n",
      "======================================================================================\n",
      "                         coef    std err          z      P>|z|      [0.025      0.975]\n",
      "--------------------------------------------------------------------------------------\n",
      "Intercept             -2.1592      0.481     -4.490      0.000      -3.102      -1.217\n",
      "median_income      -1.662e-05    3.3e-06     -5.037      0.000   -2.31e-05   -1.02e-05\n",
      "population_density  4.071e-05   2.93e-05      1.390      0.164   -1.67e-05    9.81e-05\n",
      "gini_index             4.3968      0.850      5.170      0.000       2.730       6.064\n",
      "======================================================================================\n",
      "TB_LAMBDA    0.832314\n",
      "dtype: float64\n",
      "                 Generalized Linear Model Regression Results                  \n",
      "==============================================================================\n",
      "Dep. Variable:         burgs_per_1000   No. Observations:                  146\n",
      "Model:                            GLM   Df Residuals:                      142\n",
      "Model Family:        NegativeBinomial   Df Model:                            3\n",
      "Link Function:                    log   Scale:                          1.0000\n",
      "Method:                          IRLS   Log-Likelihood:                -227.90\n",
      "Date:                Sat, 09 Oct 2021   Deviance:                       47.537\n",
      "Time:                        14:04:06   Pearson chi2:                     82.2\n",
      "No. Iterations:                     5                                         \n",
      "Covariance Type:            nonrobust                                         \n",
      "======================================================================================\n",
      "                         coef    std err          z      P>|z|      [0.025      0.975]\n",
      "--------------------------------------------------------------------------------------\n",
      "Intercept             -0.6879      0.707     -0.974      0.330      -2.073       0.697\n",
      "median_income      -1.281e-05   4.36e-06     -2.936      0.003   -2.14e-05   -4.26e-06\n",
      "population_density   5.13e-05    5.2e-05      0.986      0.324   -5.07e-05       0.000\n",
      "gini_index             3.7966      1.427      2.660      0.008       0.999       6.594\n",
      "======================================================================================\n",
      " Poisson AIC: 536.0457909020728 \n",
      " NB2 AIC: 463.7962294534856\n"
     ]
    },
    {
     "data": {
      "text/plain": [
       "<statsmodels.genmod.generalized_linear_model.GLMResultsWrapper at 0x2bcefebd160>"
      ]
     },
     "execution_count": 13,
     "metadata": {},
     "output_type": "execute_result"
    }
   ],
   "source": [
    "nb2(df = tnmod[tnmod['median_income'] >= 0], target = 'burgs_per_1000', offset_col = 'population', exp_vars = ['median_income', 'population_density', 'gini_index'])"
   ]
  }
 ],
 "metadata": {
  "kernelspec": {
   "display_name": "Python 3",
   "language": "python",
   "name": "python3"
  },
  "language_info": {
   "codemirror_mode": {
    "name": "ipython",
    "version": 3
   },
   "file_extension": ".py",
   "mimetype": "text/x-python",
   "name": "python",
   "nbconvert_exporter": "python",
   "pygments_lexer": "ipython3",
   "version": "3.8.5"
  }
 },
 "nbformat": 4,
 "nbformat_minor": 5
}
