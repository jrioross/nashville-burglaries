{
 "cells": [
  {
   "cell_type": "code",
   "execution_count": 2,
   "id": "b7185c11",
   "metadata": {},
   "outputs": [],
   "source": [
    "import pandas as pd\n",
    "import geopandas as gpd\n",
    "import numpy as np\n",
    "import matplotlib.pyplot as plt\n",
    "import seaborn as sns\n",
    "from jupyterthemes import jtplot\n",
    "jtplot.style()\n",
    "import statsmodels.api as sm\n",
    "from patsy import dmatrices\n",
    "import ipywidgets as widgets\n",
    "import statsmodels.formula.api as smf"
   ]
  },
  {
   "cell_type": "markdown",
   "id": "dff0490a",
   "metadata": {},
   "source": [
    "# Problem 5\n",
    "\n",
    "Finally, we'll build some statistical models to see how well we can explain the number of aggravated burglaries using the median income of each census tract. For this, we'll be using the Generalized Linear Models module of the statsmodels library."
   ]
  },
  {
   "cell_type": "code",
   "execution_count": 3,
   "id": "c02d5303",
   "metadata": {},
   "outputs": [],
   "source": [
    "tnt = gpd.read_file('../data/tnt.geojson')"
   ]
  },
  {
   "cell_type": "code",
   "execution_count": 4,
   "id": "63229f38",
   "metadata": {},
   "outputs": [],
   "source": [
    "tnmod = (tnt[['tract', 'burgs_per_1000', 'population_density', 'gini_index', 'population', 'aland', 'median_income']]\n",
    "         .drop_duplicates()\n",
    "        )\n",
    "tnmod = tnmod[tnmod['median_income'] >= 0]\n",
    "tnmod.to_csv('../data/tnmod.csv', index = False)"
   ]
  },
  {
   "cell_type": "markdown",
   "id": "fad5be71",
   "metadata": {},
   "source": [
    "a. Build a \"base model\" - a Poisson regression model with just an intercept term with target variable the rate of burglaries per census tract. (Offset using the [log of the] population so that we are looking at the rate of burglaries per population instead of the number of burglaries.)"
   ]
  },
  {
   "cell_type": "code",
   "execution_count": 5,
   "id": "eccbb0ac",
   "metadata": {},
   "outputs": [],
   "source": [
    "poisreg_burg_base = (sm.GLM(endog = tnmod['burgs_per_1000'],\n",
    "                       exog = sm.add_constant(tnmod[[]]),\n",
    "                       family = sm.families.Poisson(),\n",
    "                       offset = np.log((1/1000)*tnmod['population'])\n",
    "                      )\n",
    "                  .fit()\n",
    "               )"
   ]
  },
  {
   "cell_type": "code",
   "execution_count": 6,
   "id": "9131731a",
   "metadata": {},
   "outputs": [
    {
     "data": {
      "text/html": [
       "<table class=\"simpletable\">\n",
       "<caption>Generalized Linear Model Regression Results</caption>\n",
       "<tr>\n",
       "  <th>Dep. Variable:</th>    <td>burgs_per_1000</td>  <th>  No. Observations:  </th>  <td>   146</td> \n",
       "</tr>\n",
       "<tr>\n",
       "  <th>Model:</th>                  <td>GLM</td>       <th>  Df Residuals:      </th>  <td>   145</td> \n",
       "</tr>\n",
       "<tr>\n",
       "  <th>Model Family:</th>         <td>Poisson</td>     <th>  Df Model:          </th>  <td>     0</td> \n",
       "</tr>\n",
       "<tr>\n",
       "  <th>Link Function:</th>          <td>log</td>       <th>  Scale:             </th> <td>  1.0000</td>\n",
       "</tr>\n",
       "<tr>\n",
       "  <th>Method:</th>                <td>IRLS</td>       <th>  Log-Likelihood:    </th> <td> -307.68</td>\n",
       "</tr>\n",
       "<tr>\n",
       "  <th>Date:</th>            <td>Tue, 12 Oct 2021</td> <th>  Deviance:          </th> <td>  316.55</td>\n",
       "</tr>\n",
       "<tr>\n",
       "  <th>Time:</th>                <td>11:08:57</td>     <th>  Pearson chi2:      </th>  <td>  906.</td> \n",
       "</tr>\n",
       "<tr>\n",
       "  <th>No. Iterations:</th>          <td>5</td>        <th>                     </th>     <td> </td>   \n",
       "</tr>\n",
       "<tr>\n",
       "  <th>Covariance Type:</th>     <td>nonrobust</td>    <th>                     </th>     <td> </td>   \n",
       "</tr>\n",
       "</table>\n",
       "<table class=\"simpletable\">\n",
       "<tr>\n",
       "    <td></td>       <th>coef</th>     <th>std err</th>      <th>z</th>      <th>P>|z|</th>  <th>[0.025</th>    <th>0.975]</th>  \n",
       "</tr>\n",
       "<tr>\n",
       "  <th>const</th> <td>   -1.0925</td> <td>    0.068</td> <td>  -16.126</td> <td> 0.000</td> <td>   -1.225</td> <td>   -0.960</td>\n",
       "</tr>\n",
       "</table>"
      ],
      "text/plain": [
       "<class 'statsmodels.iolib.summary.Summary'>\n",
       "\"\"\"\n",
       "                 Generalized Linear Model Regression Results                  \n",
       "==============================================================================\n",
       "Dep. Variable:         burgs_per_1000   No. Observations:                  146\n",
       "Model:                            GLM   Df Residuals:                      145\n",
       "Model Family:                 Poisson   Df Model:                            0\n",
       "Link Function:                    log   Scale:                          1.0000\n",
       "Method:                          IRLS   Log-Likelihood:                -307.68\n",
       "Date:                Tue, 12 Oct 2021   Deviance:                       316.55\n",
       "Time:                        11:08:57   Pearson chi2:                     906.\n",
       "No. Iterations:                     5                                         \n",
       "Covariance Type:            nonrobust                                         \n",
       "==============================================================================\n",
       "                 coef    std err          z      P>|z|      [0.025      0.975]\n",
       "------------------------------------------------------------------------------\n",
       "const         -1.0925      0.068    -16.126      0.000      -1.225      -0.960\n",
       "==============================================================================\n",
       "\"\"\""
      ]
     },
     "execution_count": 6,
     "metadata": {},
     "output_type": "execute_result"
    }
   ],
   "source": [
    "poisreg_burg_base.summary()"
   ]
  },
  {
   "cell_type": "code",
   "execution_count": 7,
   "id": "699ab202",
   "metadata": {},
   "outputs": [
    {
     "data": {
      "text/plain": [
       "617.3673343946223"
      ]
     },
     "execution_count": 7,
     "metadata": {},
     "output_type": "execute_result"
    }
   ],
   "source": [
    "poisreg_burg_base.aic"
   ]
  },
  {
   "cell_type": "markdown",
   "id": "2eade425",
   "metadata": {},
   "source": [
    "b. Now, build a Poisson regression model with target variable the rate of burglaries and predictor variable the median income. (Don't forget to offset by the population)."
   ]
  },
  {
   "cell_type": "code",
   "execution_count": 8,
   "id": "1edd3563",
   "metadata": {},
   "outputs": [],
   "source": [
    "poisreg_burg_mi = (sm.GLM(endog = tnmod['burgs_per_1000'],\n",
    "                       exog = sm.add_constant(tnmod[['median_income']]),\n",
    "                       family = sm.families.Poisson(),\n",
    "                       offset = np.log((1/1000)*tnmod['population'])\n",
    "                      )\n",
    "                  .fit()\n",
    "               )"
   ]
  },
  {
   "cell_type": "code",
   "execution_count": 9,
   "id": "63891593",
   "metadata": {},
   "outputs": [
    {
     "data": {
      "text/html": [
       "<table class=\"simpletable\">\n",
       "<caption>Generalized Linear Model Regression Results</caption>\n",
       "<tr>\n",
       "  <th>Dep. Variable:</th>    <td>burgs_per_1000</td>  <th>  No. Observations:  </th>  <td>   146</td> \n",
       "</tr>\n",
       "<tr>\n",
       "  <th>Model:</th>                  <td>GLM</td>       <th>  Df Residuals:      </th>  <td>   144</td> \n",
       "</tr>\n",
       "<tr>\n",
       "  <th>Model Family:</th>         <td>Poisson</td>     <th>  Df Model:          </th>  <td>     1</td> \n",
       "</tr>\n",
       "<tr>\n",
       "  <th>Link Function:</th>          <td>log</td>       <th>  Scale:             </th> <td>  1.0000</td>\n",
       "</tr>\n",
       "<tr>\n",
       "  <th>Method:</th>                <td>IRLS</td>       <th>  Log-Likelihood:    </th> <td> -279.01</td>\n",
       "</tr>\n",
       "<tr>\n",
       "  <th>Date:</th>            <td>Tue, 12 Oct 2021</td> <th>  Deviance:          </th> <td>  259.19</td>\n",
       "</tr>\n",
       "<tr>\n",
       "  <th>Time:</th>                <td>11:08:57</td>     <th>  Pearson chi2:      </th>  <td>  682.</td> \n",
       "</tr>\n",
       "<tr>\n",
       "  <th>No. Iterations:</th>          <td>5</td>        <th>                     </th>     <td> </td>   \n",
       "</tr>\n",
       "<tr>\n",
       "  <th>Covariance Type:</th>     <td>nonrobust</td>    <th>                     </th>     <td> </td>   \n",
       "</tr>\n",
       "</table>\n",
       "<table class=\"simpletable\">\n",
       "<tr>\n",
       "        <td></td>           <th>coef</th>     <th>std err</th>      <th>z</th>      <th>P>|z|</th>  <th>[0.025</th>    <th>0.975]</th>  \n",
       "</tr>\n",
       "<tr>\n",
       "  <th>const</th>         <td>    0.3200</td> <td>    0.198</td> <td>    1.619</td> <td> 0.106</td> <td>   -0.067</td> <td>    0.707</td>\n",
       "</tr>\n",
       "<tr>\n",
       "  <th>median_income</th> <td>-2.445e-05</td> <td> 3.54e-06</td> <td>   -6.898</td> <td> 0.000</td> <td>-3.14e-05</td> <td>-1.75e-05</td>\n",
       "</tr>\n",
       "</table>"
      ],
      "text/plain": [
       "<class 'statsmodels.iolib.summary.Summary'>\n",
       "\"\"\"\n",
       "                 Generalized Linear Model Regression Results                  \n",
       "==============================================================================\n",
       "Dep. Variable:         burgs_per_1000   No. Observations:                  146\n",
       "Model:                            GLM   Df Residuals:                      144\n",
       "Model Family:                 Poisson   Df Model:                            1\n",
       "Link Function:                    log   Scale:                          1.0000\n",
       "Method:                          IRLS   Log-Likelihood:                -279.01\n",
       "Date:                Tue, 12 Oct 2021   Deviance:                       259.19\n",
       "Time:                        11:08:57   Pearson chi2:                     682.\n",
       "No. Iterations:                     5                                         \n",
       "Covariance Type:            nonrobust                                         \n",
       "=================================================================================\n",
       "                    coef    std err          z      P>|z|      [0.025      0.975]\n",
       "---------------------------------------------------------------------------------\n",
       "const             0.3200      0.198      1.619      0.106      -0.067       0.707\n",
       "median_income -2.445e-05   3.54e-06     -6.898      0.000   -3.14e-05   -1.75e-05\n",
       "=================================================================================\n",
       "\"\"\""
      ]
     },
     "execution_count": 9,
     "metadata": {},
     "output_type": "execute_result"
    }
   ],
   "source": [
    "poisreg_burg_mi.summary()"
   ]
  },
  {
   "cell_type": "code",
   "execution_count": 10,
   "id": "218a13ae",
   "metadata": {},
   "outputs": [
    {
     "data": {
      "text/plain": [
       "562.014148706556"
      ]
     },
     "execution_count": 10,
     "metadata": {},
     "output_type": "execute_result"
    }
   ],
   "source": [
    "poisreg_burg_mi.aic"
   ]
  },
  {
   "cell_type": "markdown",
   "id": "8eed2590",
   "metadata": {},
   "source": [
    "c. Finally, try out a negative binomial model. To get started with a negative binomial model, you can check out this tutorial.\n",
    "\n",
    "Start with just median_income in tract burgs, but once it works, parse the date in tn_burglaries and look for patterns."
   ]
  },
  {
   "cell_type": "code",
   "execution_count": 11,
   "id": "ead5a7b8",
   "metadata": {},
   "outputs": [
    {
     "name": "stdout",
     "output_type": "stream",
     "text": [
      "                 Generalized Linear Model Regression Results                  \n",
      "==============================================================================\n",
      "Dep. Variable:         burgs_per_1000   No. Observations:                  146\n",
      "Model:                            GLM   Df Residuals:                      144\n",
      "Model Family:                 Poisson   Df Model:                            1\n",
      "Link Function:                    log   Scale:                          1.0000\n",
      "Method:                          IRLS   Log-Likelihood:                -279.01\n",
      "Date:                Tue, 12 Oct 2021   Deviance:                       259.19\n",
      "Time:                        11:08:57   Pearson chi2:                     682.\n",
      "No. Iterations:                     5                                         \n",
      "Covariance Type:            nonrobust                                         \n",
      "=================================================================================\n",
      "                    coef    std err          z      P>|z|      [0.025      0.975]\n",
      "---------------------------------------------------------------------------------\n",
      "Intercept         0.3200      0.198      1.619      0.106      -0.067       0.707\n",
      "median_income -2.445e-05   3.54e-06     -6.898      0.000   -3.14e-05   -1.75e-05\n",
      "=================================================================================\n",
      "TB_LAMBDA    1.053393\n",
      "dtype: float64\n",
      "                 Generalized Linear Model Regression Results                  \n",
      "==============================================================================\n",
      "Dep. Variable:         burgs_per_1000   No. Observations:                  146\n",
      "Model:                            GLM   Df Residuals:                      144\n",
      "Model Family:        NegativeBinomial   Df Model:                            1\n",
      "Link Function:                    log   Scale:                          1.0000\n",
      "Method:                          IRLS   Log-Likelihood:                -239.09\n",
      "Date:                Tue, 12 Oct 2021   Deviance:                       49.799\n",
      "Time:                        11:08:57   Pearson chi2:                     118.\n",
      "No. Iterations:                     8                                         \n",
      "Covariance Type:            nonrobust                                         \n",
      "=================================================================================\n",
      "                    coef    std err          z      P>|z|      [0.025      0.975]\n",
      "---------------------------------------------------------------------------------\n",
      "Intercept         1.3109      0.296      4.425      0.000       0.730       1.892\n",
      "median_income -1.589e-05   4.72e-06     -3.370      0.001   -2.51e-05   -6.65e-06\n",
      "=================================================================================\n"
     ]
    }
   ],
   "source": [
    "#Setup the regression expression in patsy notation. \n",
    "#We are telling patsy that burgs_per_1000 is our dependent variable and it depends on the regression variables: median_income\n",
    "tnmod2 = tnmod.copy()\n",
    "expr = \"burgs_per_1000 ~ median_income\"\n",
    "\n",
    "#Set up the X and y matrices for the training and testing data sets\n",
    "y_train, X_train = dmatrices(expr, tnmod2, return_type='dataframe')\n",
    "\n",
    "#Using the statsmodels GLM class, train the Poisson regression model on the training data set\n",
    "poisson_training_results = (sm.GLM(y_train, \n",
    "                                  X_train, \n",
    "                                  family=sm.families.Poisson(),\n",
    "                                  offset = np.log((1/1000)*tnmod2['population'])\n",
    "                                  )\n",
    "                                  .fit()\n",
    "                            )\n",
    "\n",
    "#print out the training summary\n",
    "print(poisson_training_results.summary())\n",
    "\n",
    "#print out the fitted rate vector\n",
    "#print(poisson_training_results.mu)\n",
    "\n",
    "#Add the λ vector as a new column called 'BB_LAMBDA' to the Data Frame of the training data set\n",
    "tnmod2['TB_LAMBDA'] = poisson_training_results.mu\n",
    "\n",
    "#add a derived column called 'AUX_OLS_DEP' to the pandas DataFrame. This new column will store the values of the dependent variable of the OLS regression\n",
    "tnmod2['AUX_OLS_DEP'] = tnmod2.apply(lambda x: ((x['burgs_per_1000'] - x['TB_LAMBDA'])**2 - x['TB_LAMBDA']) / x['TB_LAMBDA'], axis=1)\n",
    "\n",
    "#use patsy to form the model specification for the OLSR\n",
    "ols_expr = \"\"\"AUX_OLS_DEP ~ TB_LAMBDA - 1\"\"\"\n",
    "\n",
    "#Configure and fit the OLSR model\n",
    "aux_olsr_results = smf.ols(ols_expr, tnmod2).fit()\n",
    "\n",
    "#Print the regression params\n",
    "print(aux_olsr_results.params)\n",
    "\n",
    "#train the NB2 model on the training data set\n",
    "nb2_training_results = sm.GLM(y_train, X_train,family=sm.families.NegativeBinomial(alpha=aux_olsr_results.params[0])).fit()\n",
    "\n",
    "#print the training summary\n",
    "print(nb2_training_results.summary())"
   ]
  },
  {
   "cell_type": "markdown",
   "id": "28cbe26e",
   "metadata": {},
   "source": [
    "d. How do your models compare? Hint: the fit models have an AIC attribute."
   ]
  },
  {
   "cell_type": "code",
   "execution_count": 12,
   "id": "9ef88073",
   "metadata": {},
   "outputs": [
    {
     "name": "stdout",
     "output_type": "stream",
     "text": [
      "poisson: 562.014148706556\n",
      "negative binomial: 482.17972219341664\n"
     ]
    }
   ],
   "source": [
    "#Check AIC\n",
    "print(\"poisson: \"+str(poisson_training_results.aic)) \n",
    "print(\"negative binomial: \"+str(nb2_training_results.aic))"
   ]
  },
  {
   "cell_type": "markdown",
   "id": "0524d1f8",
   "metadata": {},
   "source": [
    "# Function and Widget"
   ]
  },
  {
   "cell_type": "code",
   "execution_count": 15,
   "id": "c911ced1",
   "metadata": {},
   "outputs": [],
   "source": [
    "def nb2(data, target, offset_col, exp_vars, print_summary = False):\n",
    "    \"\"\"Create NB2 model\"\"\"\n",
    "    #Copy data to df\n",
    "    df = data.copy()\n",
    "    #Setup the regression expression in patsy notation. \n",
    "    #We are telling patsy that burgs_per_1000 is our dependent variable and it depends on the regression variables: median_income\n",
    "    expr = f\"{target} ~ {' + '.join(exp_vars)}\"\n",
    "\n",
    "    #Set up the X and y matrices for the training and testing data sets\n",
    "    y_train, X_train = dmatrices(expr, df, return_type='dataframe')\n",
    "\n",
    "    #Using the statsmodels GLM class, train the Poisson regression model on the training data set\n",
    "    poisson_training_results = (sm.GLM(y_train, \n",
    "                                      X_train, \n",
    "                                      family=sm.families.Poisson(),\n",
    "                                      offset = np.log((1/1000)*df[offset_col])\n",
    "                                      )\n",
    "                                      .fit()\n",
    "                                )\n",
    "\n",
    "    #print out the fitted rate vector\n",
    "    #print(poisson_training_results.mu)\n",
    "\n",
    "    #Add the λ vector as a new column called 'BB_LAMBDA' to the Data Frame of the training data set\n",
    "    df['TB_LAMBDA'] = poisson_training_results.mu\n",
    "\n",
    "    #add a derived column called 'AUX_OLS_DEP' to the pandas DataFrame. This new column will store the values of the dependent variable of the OLS regression\n",
    "    df['AUX_OLS_DEP'] = df.apply(lambda x: ((x[target] - x['TB_LAMBDA'])**2 - x['TB_LAMBDA']) / x['TB_LAMBDA'], axis=1)\n",
    "\n",
    "    #use patsy to form the model specification for the OLSR\n",
    "    ols_expr = \"\"\"AUX_OLS_DEP ~ TB_LAMBDA - 1\"\"\"\n",
    "\n",
    "    #Configure and fit the OLSR model\n",
    "    aux_olsr_results = smf.ols(ols_expr, df).fit()\n",
    "\n",
    "    #Print the regression params\n",
    "    #print(aux_olsr_results.params, \"\\n\\n\\n\")\n",
    "\n",
    "    #train the NB2 model on the training data set\n",
    "    nb2_training_results = (sm.GLM(y_train, \n",
    "                                  X_train,\n",
    "                                  family=sm.families.NegativeBinomial(alpha=aux_olsr_results.params[0]))\n",
    "                           .fit()\n",
    "                           )\n",
    "    \n",
    "    #print the training summary\n",
    "    if print_summary == True:\n",
    "        print(\"POISSON SUMMARY\")\n",
    "        print(poisson_training_results.summary(), \"\\n\\n\\n\")\n",
    "    \n",
    "        print(\"NB2 SUMMARY\")\n",
    "        print(nb2_training_results.summary(), '\\n\\n\\n')\n",
    "        print(' Poisson AIC: '+str(poisson_training_results.aic), \n",
    "              '\\n',\n",
    "              'NB2 AIC: '+str(nb2_training_results.aic)\n",
    "             )\n",
    "    else:\n",
    "        pass\n",
    "    \n",
    "    return (poisson_training_results, nb2_training_results)"
   ]
  },
  {
   "cell_type": "code",
   "execution_count": 19,
   "id": "192042e9",
   "metadata": {},
   "outputs": [
    {
     "data": {
      "application/vnd.jupyter.widget-view+json": {
       "model_id": "615480be643f48a7ac83cc3c05809c00",
       "version_major": 2,
       "version_minor": 0
      },
      "text/plain": [
       "interactive(children=(SelectMultiple(description='Exp. Vars', index=(0,), options=('ALL', 'median_income', 'al…"
      ]
     },
     "metadata": {},
     "output_type": "display_data"
    },
    {
     "data": {
      "text/plain": [
       "<function __main__.widfunc(x)>"
      ]
     },
     "execution_count": 19,
     "metadata": {},
     "output_type": "execute_result"
    }
   ],
   "source": [
    "ALL = 'ALL'\n",
    "selist = tnmod.columns[2:].tolist()\n",
    "selist.append(ALL)\n",
    "select_list = selist[::-1]\n",
    "\n",
    "w = widgets.SelectMultiple(\n",
    "    options=select_list,\n",
    "    value=['ALL'],\n",
    "    rows=6,\n",
    "    description='Exp. Vars',\n",
    "    disabled=False\n",
    ")\n",
    "\n",
    "def widfunc(x):\n",
    "    if x != ('ALL',):\n",
    "        exp_vars = x\n",
    "    else:\n",
    "        exp_vars = tnmod.columns[2:].tolist()\n",
    "        \n",
    "    return nb2(data = tnmod,\n",
    "            target = 'burgs_per_1000',\n",
    "            offset_col = 'population',\n",
    "            exp_vars = exp_vars,\n",
    "            print_summary = True)\n",
    "\n",
    "widgets.interact(widfunc, \n",
    "                 x = w)"
   ]
  },
  {
   "cell_type": "code",
   "execution_count": null,
   "id": "e4dfc078",
   "metadata": {},
   "outputs": [],
   "source": []
  }
 ],
 "metadata": {
  "kernelspec": {
   "display_name": "Python 3",
   "language": "python",
   "name": "python3"
  },
  "language_info": {
   "codemirror_mode": {
    "name": "ipython",
    "version": 3
   },
   "file_extension": ".py",
   "mimetype": "text/x-python",
   "name": "python",
   "nbconvert_exporter": "python",
   "pygments_lexer": "ipython3",
   "version": "3.8.5"
  }
 },
 "nbformat": 4,
 "nbformat_minor": 5
}
