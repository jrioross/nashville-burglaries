{
 "cells": [
  {
   "cell_type": "code",
   "execution_count": 3,
   "id": "bbd1128f",
   "metadata": {},
   "outputs": [],
   "source": [
    "import pandas as pd\n",
    "import geopandas as gpd\n",
    "import numpy as np\n",
    "import matplotlib.pyplot as plt\n",
    "import folium\n",
    "import seaborn as sns\n",
    "from jupyterthemes import jtplot\n",
    "jtplot.style()\n",
    "import statsmodels.api as sm\n",
    "from patsy import dmatrices\n",
    "import ipywidgets as widgets\n",
    "import statsmodels.formula.api as smf"
   ]
  },
  {
   "cell_type": "markdown",
   "id": "76fc2297",
   "metadata": {},
   "source": [
    "# Problem 6: Presentation"
   ]
  },
  {
   "cell_type": "code",
   "execution_count": 4,
   "id": "02b37c53",
   "metadata": {},
   "outputs": [],
   "source": [
    "tnt = gpd.read_file('../data/tnt.geojson')\n",
    "tnmod = (tnt[['tract', 'burgs_per_1000', 'population_density', 'gini_index', 'population', 'aland', 'median_income']]\n",
    "         .drop_duplicates()\n",
    "        )\n",
    "tnmod = tnmod[tnmod['median_income'] >= 0]"
   ]
  },
  {
   "cell_type": "code",
   "execution_count": 5,
   "id": "e18482d6",
   "metadata": {},
   "outputs": [],
   "source": [
    "def nb2(data, target, offset_col, exp_vars):\n",
    "    \"\"\"Create NB2 model\"\"\"\n",
    "    #Copy data to df\n",
    "    df = data.copy()\n",
    "    #Setup the regression expression in patsy notation. \n",
    "    #We are telling patsy that burgs_per_1000 is our dependent variable and it depends on the regression variables: median_income\n",
    "    expr = f\"{target} ~ {' + '.join(exp_vars)}\"\n",
    "\n",
    "    #Set up the X and y matrices for the training and testing data sets\n",
    "    y_train, X_train = dmatrices(expr, df, return_type='dataframe')\n",
    "\n",
    "    #Using the statsmodels GLM class, train the Poisson regression model on the training data set\n",
    "    poisson_training_results = (sm.GLM(y_train, \n",
    "                                      X_train, \n",
    "                                      family=sm.families.Poisson(),\n",
    "                                      offset = np.log((1/1000)*df[offset_col])\n",
    "                                      )\n",
    "                                      .fit()\n",
    "                                )\n",
    "\n",
    "    #print out the training summary\n",
    "    print(\"POISSON SUMMARY\")\n",
    "    print(poisson_training_results.summary(), \"\\n\\n\\n\")\n",
    "\n",
    "    #print out the fitted rate vector\n",
    "    #print(poisson_training_results.mu)\n",
    "\n",
    "    #Add the λ vector as a new column called 'BB_LAMBDA' to the Data Frame of the training data set\n",
    "    df['TB_LAMBDA'] = poisson_training_results.mu\n",
    "\n",
    "    #add a derived column called 'AUX_OLS_DEP' to the pandas DataFrame. This new column will store the values of the dependent variable of the OLS regression\n",
    "    df['AUX_OLS_DEP'] = df.apply(lambda x: ((x[target] - x['TB_LAMBDA'])**2 - x['TB_LAMBDA']) / x['TB_LAMBDA'], axis=1)\n",
    "\n",
    "    #use patsy to form the model specification for the OLSR\n",
    "    ols_expr = \"\"\"AUX_OLS_DEP ~ TB_LAMBDA - 1\"\"\"\n",
    "\n",
    "    #Configure and fit the OLSR model\n",
    "    aux_olsr_results = smf.ols(ols_expr, df).fit()\n",
    "\n",
    "    #Print the regression params\n",
    "    print(aux_olsr_results.params, \"\\n\\n\\n\")\n",
    "\n",
    "    #train the NB2 model on the training data set\n",
    "    nb2_training_results = (sm.GLM(y_train, \n",
    "                                  X_train,\n",
    "                                  family=sm.families.NegativeBinomial(alpha=aux_olsr_results.params[0]))\n",
    "                           .fit()\n",
    "                           )\n",
    "    \n",
    "    #print the training summary\n",
    "    print(\"NB2 Summary\")\n",
    "    print(nb2_training_results.summary())\n",
    "    print(' Poisson AIC: '+str(poisson_training_results.aic), '\\n',\n",
    "          'NB2 AIC: '+str(nb2_training_results.aic)\n",
    "         )\n",
    "    \n",
    "    return nb2_training_results"
   ]
  },
  {
   "cell_type": "code",
   "execution_count": 8,
   "id": "01a0763f",
   "metadata": {},
   "outputs": [
    {
     "data": {
      "application/vnd.jupyter.widget-view+json": {
       "model_id": "585eab9d2ee044b2a19ad0b09af72691",
       "version_major": 2,
       "version_minor": 0
      },
      "text/plain": [
       "interactive(children=(SelectMultiple(description='Exp. Vars', index=(0,), options=('ALL', 'median_income', 'al…"
      ]
     },
     "metadata": {},
     "output_type": "display_data"
    },
    {
     "data": {
      "text/plain": [
       "<function __main__.widfunc(x)>"
      ]
     },
     "execution_count": 8,
     "metadata": {},
     "output_type": "execute_result"
    }
   ],
   "source": [
    "ALL = 'ALL'\n",
    "selist = tnmod.columns[2:].tolist()\n",
    "selist.append(ALL)\n",
    "select_list = selist[::-1]\n",
    "\n",
    "w = widgets.SelectMultiple(\n",
    "    options=select_list,\n",
    "    value=['ALL'],\n",
    "    #rows=10,\n",
    "    description='Exp. Vars',\n",
    "    disabled=False\n",
    ")\n",
    "\n",
    "def widfunc(x):\n",
    "    if x != ('ALL',):\n",
    "        exp_vars = x\n",
    "    else:\n",
    "        exp_vars = tnmod.columns[2:].tolist()\n",
    "        \n",
    "    return nb2(data = tnmod,\n",
    "            target = 'burgs_per_1000',\n",
    "            offset_col = 'population',\n",
    "            exp_vars = exp_vars)\n",
    "\n",
    "widgets.interact(widfunc, \n",
    "                 x = w)"
   ]
  }
 ],
 "metadata": {
  "kernelspec": {
   "display_name": "Python 3",
   "language": "python",
   "name": "python3"
  },
  "language_info": {
   "codemirror_mode": {
    "name": "ipython",
    "version": 3
   },
   "file_extension": ".py",
   "mimetype": "text/x-python",
   "name": "python",
   "nbconvert_exporter": "python",
   "pygments_lexer": "ipython3",
   "version": "3.8.5"
  }
 },
 "nbformat": 4,
 "nbformat_minor": 5
}
